{
 "cells": [
  {
   "cell_type": "code",
   "execution_count": null,
   "metadata": {},
   "outputs": [],
   "source": [
    "import pandas as pd\n",
    "import numpy as np\n",
    "import matplotlib.pyplot as plt\n",
    "import glob\n",
    "from scipy.optimize import curve_fit\n",
    "from scipy.special import erf"
   ]
  },
  {
   "cell_type": "code",
   "execution_count": null,
   "metadata": {},
   "outputs": [],
   "source": [
    "fontsize = 16\n",
    "\n",
    "# Define the error function (erf) model\n",
    "def error_function(x, a, x0, sigma):\n",
    "    return a * 0.5 * (1 + erf((x - x0) / (np.sqrt(2) * sigma)))\n",
    "\n",
    "# Define a Gaussian function\n",
    "def gaussian(x, a, x0, sigma):\n",
    "    return a * np.exp(-(x - x0) ** 2 / (2 * sigma ** 2))"
   ]
  },
  {
   "cell_type": "code",
   "execution_count": null,
   "metadata": {},
   "outputs": [],
   "source": [
    "files = glob.glob(\"/data/*.txt\")\n",
    "# files= \"exp_setup/data/run_1723392817.4765801.txt\"\n",
    "# files =\"/Users/ashutoshsingh/Documents/iitm/research/fso/exp_setup/data/run_1723392817.4765801.txt\"\n",
    "label_title = range(len(files))\n",
    "label_index = 0\n"
   ]
  },
  {
   "cell_type": "code",
   "execution_count": null,
   "metadata": {},
   "outputs": [],
   "source": [
    "files"
   ]
  },
  {
   "cell_type": "code",
   "execution_count": null,
   "metadata": {},
   "outputs": [],
   "source": [
    "# for i in files:\n",
    "for i in range(0,1):\n",
    "    data = pd.read_csv(files,index_col=False)\n",
    "    datax = data['distance']\n",
    "    # datax = datax - np.mean(datax)\n",
    "    datay_raw=data.drop(['distance','read_1'], axis=1)\n",
    "    datay_raw=(datay_raw - np.min(datay_raw)) / (np.max(datay_raw) - np.min(datay_raw))\n",
    "    dataerr = np.std(datay_raw, axis=1)\n",
    "    datay=np.mean(datay_raw, axis=1)\n",
    "    plt.plot(datax,datay,'.')\n",
    "    plt.errorbar(datax, datay, yerr=dataerr, label= \"Measured Value\")\n",
    "    plt.xlabel(\"Position (mm)\",fontsize=fontsize)\n",
    "    plt.ylabel(\"Intensity (arbitrary)\", fontsize=fontsize)\n",
    "    # plt.title(f\"File_{label_title[label_index]}\", fontsize=fontsize)\n",
    "    plt.grid()\n",
    "    label_index+=1\n",
    "\n",
    "\n",
    "\n",
    "\n",
    "# Fit the data to the error function\n",
    "    popt, pcov = curve_fit(error_function, datax, datay)#, p0=[1, np.mean(datax), np.std(datax)])\n",
    "    plot_distance = np.linspace(min(datax), max(datax),100)\n",
    "    plt.plot(plot_distance, error_function(plot_distance, *popt))\n",
    "\n",
    "    # Extract the fit parameters\n",
    "    a, x0, sigma = popt\n",
    "\n",
    "# Calculate the Full Width at Half Maximum (FWHM)\n",
    "    fwhm = 2 * np.sqrt(2 * np.log(2)) * sigma\n",
    "    print(f\"FWHM : {round(fwhm,2)}\")\n",
    "    plt.plot(plot_distance, gaussian(plot_distance, *popt), label = f\"FWHM : {round(fwhm,2)} mm\" )\n",
    "    plt.legend()\n",
    "    # plt.savefig(f\"\")\n",
    "    plt.show()"
   ]
  },
  {
   "cell_type": "code",
   "execution_count": null,
   "metadata": {},
   "outputs": [],
   "source": []
  },
  {
   "cell_type": "code",
   "execution_count": null,
   "metadata": {},
   "outputs": [],
   "source": []
  }
 ],
 "metadata": {
  "kernelspec": {
   "display_name": "plotting",
   "language": "python",
   "name": "python3"
  },
  "language_info": {
   "codemirror_mode": {
    "name": "ipython",
    "version": 3
   },
   "file_extension": ".py",
   "mimetype": "text/x-python",
   "name": "python",
   "nbconvert_exporter": "python",
   "pygments_lexer": "ipython3",
   "version": "3.12.3"
  }
 },
 "nbformat": 4,
 "nbformat_minor": 2
}
